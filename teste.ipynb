{
 "cells": [
  {
   "cell_type": "code",
   "execution_count": 2,
   "metadata": {},
   "outputs": [],
   "source": [
    "import pandas as pd\n",
    "from dotenv import load_dotenv\n",
    "from fastapi import FastAPI\n",
    "import pyodbc\n",
    "import os\n",
    "\n",
    "load_dotenv('.env')\n",
    "\n",
    "server = os.getenv('SERVER')\n",
    "database = os.getenv('DATABASE')\n",
    "username = os.getenv('USERNAME')\n",
    "password = os.getenv('PASSWORD')\n",
    "driver = os.getenv('DRIVER')\n",
    "\n",
    "connection_string = f\"DRIVER={driver};SERVER={server};DATABASE={database};UID={username};PWD={password};TrustServerCertificate=Yes\"\n",
    "conn = pyodbc.connect(connection_string)\n",
    "cursor = conn.cursor()"
   ]
  },
  {
   "cell_type": "code",
   "execution_count": 3,
   "metadata": {},
   "outputs": [],
   "source": [
    "query = '''\n",
    "SELECT\n",
    "    MAX(Equipamento.Descricao) AS descricaoEquipamento\n",
    "    , MAX(InstalacaoEletrica.Descricao) AS descricaoInstalacaoEletrica\n",
    "    , MAX(gc.Descricao) AS GrupoDeCalculo\n",
    "    , MAX(Calculo.Codigo) AS CodigoCalculo\n",
    "    , MAX(Calculo.Descricao) AS DescricaoCalculo\n",
    "    , ExecucaoCalculoResultado.Resultado \n",
    "\t, CAST(ExecucaoCalculoResultado.UltimaAtualizacao AS DATE) AS UltimaAtualizacaoCalculo\n",
    "FROM EngineCalculo.CalculoResultado As ExecucaoCalculoResultado\n",
    "INNER JOIN EngineCalculo.CalculoResultadoEquipamento \n",
    "\tON CalculoResultadoEquipamento.CalculoId = ExecucaoCalculoResultado.CalculoId \n",
    "    AND CalculoResultadoEquipamento.JobId = ExecucaoCalculoResultado.JobId\n",
    "INNER JOIN EngineCalculo.Calculo\n",
    "\tON Calculo.Id = ExecucaoCalculoResultado.CalculoId\n",
    "INNER JOIN EngineCalculo.CalculoResultadoVariavel As EntradaVariavel \n",
    "\tON ExecucaoCalculoResultado.JobId = EntradaVariavel.JobId\n",
    "INNER JOIN EngineCalculo.RevisaoVariavel As RevisaoVariavel \n",
    "    ON RevisaoVariavel.VariavelId = EntradaVariavel.VariavelId \n",
    "\tAND RevisaoVariavel.Revisao = EntradaVariavel.Revisao\n",
    "INNER JOIN [EngineCalculo].[Variavel] \n",
    "\tON Variavel.Id = EntradaVariavel.VariavelId \n",
    "INNER JOIN Equipamento\n",
    "\tON Equipamento.Id = CalculoResultadoEquipamento.EquipamentoId\n",
    "INNER JOIN EquipamentoInstalacaoEletrica \n",
    "\tON Equipamento.Id = EquipamentoInstalacaoEletrica.EquipamentoId\n",
    "INNER JOIN InstalacaoEletrica\n",
    "\tON  InstalacaoEletrica.Id = EquipamentoInstalacaoEletrica.InstalacaoEletricaId\n",
    "INNER JOIN Familia AS f \n",
    "\tON f.Id = Equipamento.FamiliaId\n",
    "INNER JOIN EngineCalculo.CategoriaVariavel AS cv \n",
    "\tON cv.Id = Variavel.CategoriaVariavelId\n",
    "LEFT JOIN EngineCalculo.GrupoCalculo AS gc \n",
    "\tON gc.Id = Calculo.GrupoCalculoId\n",
    "WHERE \n",
    "\tCalculo.Codigo IN ('IE_TR' ,'I2_TR')\n",
    "    AND ExecucaoCalculoResultado.UltimaAtualizacao >= '2023-06-07'\n",
    "    AND ExecucaoCalculoResultado.UltimaAtualizacao <= '2023-07-31'\n",
    "\tAND Equipamento.Id = 132\n",
    "GROUP BY \n",
    "\tExecucaoCalculoResultado.Resultado \n",
    "\t, CAST(ExecucaoCalculoResultado.UltimaAtualizacao AS DATE)\n",
    "ORDER BY \n",
    "\tCAST(ExecucaoCalculoResultado.UltimaAtualizacao AS DATE)\n",
    "    , MAX(InstalacaoEletrica.Descricao)\n",
    "\t, MAX(Equipamento.Descricao) '''\n",
    "resultado = cursor.execute(query)\n",
    "registro = resultado.fetchall()\n"
   ]
  },
  {
   "cell_type": "code",
   "execution_count": 4,
   "metadata": {},
   "outputs": [],
   "source": [
    "colunas = [column[0] for column in cursor.description]"
   ]
  },
  {
   "cell_type": "code",
   "execution_count": 5,
   "metadata": {},
   "outputs": [
    {
     "data": {
      "text/plain": [
       "['descricaoEquipamento',\n",
       " 'descricaoInstalacaoEletrica',\n",
       " 'GrupoDeCalculo',\n",
       " 'CodigoCalculo',\n",
       " 'DescricaoCalculo',\n",
       " 'Resultado',\n",
       " 'UltimaAtualizacaoCalculo']"
      ]
     },
     "execution_count": 5,
     "metadata": {},
     "output_type": "execute_result"
    }
   ],
   "source": [
    "colunas"
   ]
  }
 ],
 "metadata": {
  "kernelspec": {
   "display_name": "env",
   "language": "python",
   "name": "python3"
  },
  "language_info": {
   "codemirror_mode": {
    "name": "ipython",
    "version": 3
   },
   "file_extension": ".py",
   "mimetype": "text/x-python",
   "name": "python",
   "nbconvert_exporter": "python",
   "pygments_lexer": "ipython3",
   "version": "3.10.6"
  },
  "orig_nbformat": 4
 },
 "nbformat": 4,
 "nbformat_minor": 2
}
