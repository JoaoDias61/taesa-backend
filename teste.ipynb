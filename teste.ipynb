{
 "cells": [
  {
   "cell_type": "code",
   "execution_count": 30,
   "metadata": {},
   "outputs": [],
   "source": [
    "from src.model.filterData import filterData\n",
    "from src.model.riskMatrix import riskMatrix\n",
    "from src.model.calculateTransformerInformation import calculateTransformerInformation\n",
    "\n",
    "import pandas as pd\n",
    "from dotenv import load_dotenv\n",
    "from fastapi import FastAPI\n",
    "import pyodbc\n",
    "import os\n",
    "\n",
    "load_dotenv('.env')\n",
    "\n",
    "server = os.getenv('SERVER')\n",
    "database = os.getenv('DATABASE')\n",
    "username = os.getenv('USERNAME')\n",
    "password = os.getenv('PASSWORD')\n",
    "driver = os.getenv('DRIVER')\n",
    "\n",
    "connection_string = f\"DRIVER={driver};SERVER={server};DATABASE={database};UID={username};PWD={password};TrustServerCertificate=Yes\"\n",
    "conn = pyodbc.connect(connection_string)\n",
    "cursor = conn.cursor()\n"
   ]
  },
  {
   "cell_type": "code",
   "execution_count": 31,
   "metadata": {},
   "outputs": [],
   "source": [
    "codigo_operacional = \"INAT7-01\"\n",
    "familia = \"Autotransformador\"\n",
    "resultado = riskMatrix(cursor, codigo_operacional, familia).processRiskMatrix()"
   ]
  },
  {
   "cell_type": "code",
   "execution_count": 42,
   "metadata": {},
   "outputs": [
    {
     "name": "stdout",
     "output_type": "stream",
     "text": [
      "       CodigoCalculo  ResultadoCalculo UltimaAtualizacaoCalculo  \\\n",
      "0             264836               146                  DEN_ATV   \n",
      "1             264836               145                  NUM_ATV   \n",
      "2             264836               153                  DEN_BCH   \n",
      "3             264836               161                  DEN_CMT   \n",
      "4             264836               160                  NUM_CMT   \n",
      "...              ...               ...                      ...   \n",
      "107563        264845               181             MON_MULTIGAS   \n",
      "107564        264845               181             MON_MULTIGAS   \n",
      "107565        264845               181             MON_MULTIGAS   \n",
      "107566        264845               181             MON_MULTIGAS   \n",
      "107567        264845               181             MON_MULTIGAS   \n",
      "\n",
      "        VariavelCodigo           ValorVariavel  Abreviatura        Nome  \n",
      "0                 31.0 2023-05-30 02:04:37.980           13  Itacaiúnas  \n",
      "1                 22.0 2023-05-30 02:04:37.980           13  Itacaiúnas  \n",
      "2                 19.0 2023-05-30 02:04:37.980           13  Itacaiúnas  \n",
      "3                 16.0 2023-05-30 02:04:37.980           13  Itacaiúnas  \n",
      "4                 13.0 2023-05-30 02:04:37.980           13  Itacaiúnas  \n",
      "...                ...                     ...          ...         ...  \n",
      "107563             0.0 2023-05-30 02:16:39.557           13  Itacaiúnas  \n",
      "107564             0.0 2023-05-30 02:16:39.557           13  Itacaiúnas  \n",
      "107565             0.0 2023-05-30 02:16:39.557           13  Itacaiúnas  \n",
      "107566             0.0 2023-05-30 02:16:39.557           13  Itacaiúnas  \n",
      "107567             0.0 2023-05-30 02:16:39.557           13  Itacaiúnas  \n",
      "\n",
      "[107568 rows x 7 columns]\n"
     ]
    }
   ],
   "source": [
    "colunas = ['CodigoCalculo', 'ResultadoCalculo', 'UltimaAtualizacaoCalculo', 'descricaoInstalacaoEletrica', 'descricaoEquipamento', 'VariavelCodigo', 'ValorVariavel', 'Abreviatura', 'Nome']\n",
    "dados = [dict(zip(colunas, row)) for row in resultado]\n",
    "df = pd.DataFrame(dados)\n",
    "\n",
    "print(df)"
   ]
  },
  {
   "cell_type": "code",
   "execution_count": 34,
   "metadata": {},
   "outputs": [
    {
     "name": "stdout",
     "output_type": "stream",
     "text": [
      "RangeIndex(start=0, stop=1, step=1)\n"
     ]
    }
   ],
   "source": [
    "resultado_df = pd.DataFrame(resultado)\n",
    "print(resultado_df.columns)\n",
    "\n"
   ]
  },
  {
   "cell_type": "code",
   "execution_count": null,
   "metadata": {},
   "outputs": [],
   "source": []
  }
 ],
 "metadata": {
  "kernelspec": {
   "display_name": "env",
   "language": "python",
   "name": "python3"
  },
  "language_info": {
   "codemirror_mode": {
    "name": "ipython",
    "version": 3
   },
   "file_extension": ".py",
   "mimetype": "text/x-python",
   "name": "python",
   "nbconvert_exporter": "python",
   "pygments_lexer": "ipython3",
   "version": "3.10.6"
  },
  "orig_nbformat": 4
 },
 "nbformat": 4,
 "nbformat_minor": 2
}
